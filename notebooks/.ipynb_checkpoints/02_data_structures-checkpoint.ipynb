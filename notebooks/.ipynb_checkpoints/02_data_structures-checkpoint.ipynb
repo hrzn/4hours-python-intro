{
 "cells": [
  {
   "cell_type": "markdown",
   "metadata": {},
   "source": [
    "# Data Structures\n",
    "Until now, we have been manipulating only basic types, representing either string, numbers or booleans. That's a good start, but we'll need more if we want to represent any kind of rich dataset. We'll now discover some classic Python data structures: lists, tuples, sets and dicts.\n",
    "\n",
    "These data structures are all essential tools, and they all have different properties which make them suitable for different situations.\n",
    "\n",
    "## Lists\n",
    "Lists represent sequences of values:"
   ]
  },
  {
   "cell_type": "code",
   "execution_count": 1,
   "metadata": {},
   "outputs": [
    {
     "name": "stdout",
     "output_type": "stream",
     "text": [
      "['abc', 'def', 'cba', 'fed']\n"
     ]
    }
   ],
   "source": [
    "a_list = ['abc', 'def', 'cba', 'fed']\n",
    "print(a_list)"
   ]
  },
  {
   "cell_type": "markdown",
   "metadata": {},
   "source": [
    "The elements in a list are indexed, starting with index 0:\n",
    "```\n",
    "['abc', 'def', 'cba', 'fed']\n",
    "   0      1      2      3\n",
    "```\n",
    "This allows us to *access* the elements of a list by index, using `[]`:"
   ]
  },
  {
   "cell_type": "code",
   "execution_count": 2,
   "metadata": {},
   "outputs": [
    {
     "name": "stdout",
     "output_type": "stream",
     "text": [
      "abc\n",
      "cba\n"
     ]
    }
   ],
   "source": [
    "print(a_list[0])\n",
    "print(a_list[2])"
   ]
  },
  {
   "cell_type": "markdown",
   "metadata": {},
   "source": [
    "Similarly, we can use indices starting from -1 downwards to index list elements starting from the end:\n",
    "```\n",
    "['abc', 'def', 'cba', 'fed']\n",
    "  -4     -3     -2     -1\n",
    "```"
   ]
  },
  {
   "cell_type": "code",
   "execution_count": 3,
   "metadata": {},
   "outputs": [
    {
     "name": "stdout",
     "output_type": "stream",
     "text": [
      "fed\n",
      "def\n"
     ]
    }
   ],
   "source": [
    "print(a_list[-1])\n",
    "print(a_list[-3])"
   ]
  },
  {
   "cell_type": "markdown",
   "metadata": {},
   "source": [
    "We can also access slices, which are themselves lists, using `:`:"
   ]
  },
  {
   "cell_type": "code",
   "execution_count": 4,
   "metadata": {},
   "outputs": [
    {
     "name": "stdout",
     "output_type": "stream",
     "text": [
      "['def', 'cba']\n",
      "['def', 'cba', 'fed']\n",
      "['abc', 'def', 'cba']\n",
      "['def', 'cba']\n"
     ]
    }
   ],
   "source": [
    "print(a_list[1:3])  # From index 1 included to index 3 excluded\n",
    "print(a_list[1:])   # From index 1 included to the end\n",
    "print(a_list[:-1])  # From the start included to the last element excluded\n",
    "print(a_list[-3:-1])  # From index -3 included to index -1 excluded"
   ]
  },
  {
   "cell_type": "markdown",
   "metadata": {},
   "source": [
    "Lists can be modified by putting elements at specific indices:"
   ]
  },
  {
   "cell_type": "code",
   "execution_count": 5,
   "metadata": {},
   "outputs": [
    {
     "name": "stdout",
     "output_type": "stream",
     "text": [
      "['new_elem', 'def', 'cba', 'fed']\n",
      "['new_elem', 'a', 'b', 'c']\n",
      "['new_elem', 'a', 'b', 'l']\n"
     ]
    }
   ],
   "source": [
    "a_list[0] = 'new_elem'\n",
    "print(a_list)\n",
    "a_list[1:] = ['a', 'b', 'c']\n",
    "print(a_list)\n",
    "a_list[-1] = 'l'\n",
    "print(a_list)"
   ]
  },
  {
   "cell_type": "markdown",
   "metadata": {},
   "source": [
    "### Some List Functions and Operators\n",
    "* `len`: (built-in function) returns the length of a list (like strings)\n",
    "* `append`: (list method) appends its argument to the list\n",
    "* `in` / `not in`: (operator) indicating whether an element is / is not in a list\n",
    "* `+`: (operator) concatenating two lists, returning a new list\n",
    "* `sort`: (list method) sorts the list *in place*\n",
    "* `sorted`: (built-in function) returns a new list, which is the sorted version of the list given in argument\n",
    "\n",
    "See [the documentation](https://docs.python.org/3.8/tutorial/datastructures.html) for more list methods."
   ]
  },
  {
   "cell_type": "code",
   "execution_count": 6,
   "metadata": {},
   "outputs": [
    {
     "name": "stdout",
     "output_type": "stream",
     "text": [
      "4\n",
      "2\n"
     ]
    }
   ],
   "source": [
    "list_a = [1, 'abc', 42, 'def']\n",
    "list_b = ['one', 'two']\n",
    "print(len(list_a))\n",
    "print(len(list_b))"
   ]
  },
  {
   "cell_type": "code",
   "execution_count": 7,
   "metadata": {},
   "outputs": [
    {
     "name": "stdout",
     "output_type": "stream",
     "text": [
      "[1, 'abc', 42, 'def', 24]\n"
     ]
    }
   ],
   "source": [
    "list_a.append(24)\n",
    "print(list_a)"
   ]
  },
  {
   "cell_type": "code",
   "execution_count": 8,
   "metadata": {},
   "outputs": [
    {
     "name": "stdout",
     "output_type": "stream",
     "text": [
      "[1, 'abc', 'inserted_element', 42, 'def', 24]\n"
     ]
    }
   ],
   "source": [
    "list_a.insert(2, 'inserted_element')\n",
    "print(list_a)"
   ]
  },
  {
   "cell_type": "code",
   "execution_count": 9,
   "metadata": {},
   "outputs": [
    {
     "name": "stdout",
     "output_type": "stream",
     "text": [
      "True\n",
      "False\n"
     ]
    }
   ],
   "source": [
    "print(42 in list_a)\n",
    "print(42 in list_b)"
   ]
  },
  {
   "cell_type": "markdown",
   "metadata": {},
   "source": [
    "#### Exercise \n",
    "use `+` to concatenate `list_a` and `list_b`"
   ]
  },
  {
   "cell_type": "code",
   "execution_count": 10,
   "metadata": {},
   "outputs": [],
   "source": [
    "list_a = [1, 'abc', 42, 'def']\n",
    "list_b = ['one', 'two']\n",
    "\n"
   ]
  },
  {
   "cell_type": "markdown",
   "metadata": {},
   "source": [
    "#### Exercise\n",
    "use `sorted` to sort a list of numbers\n",
    "\n",
    "*!! bonus !!* sort the list in decreasing order (hint: consult the `sorted` documentation)"
   ]
  },
  {
   "cell_type": "code",
   "execution_count": 11,
   "metadata": {},
   "outputs": [],
   "source": [
    "a_list_of_numbers = [5.1, 7, 3.14, 7/8, 1, 1]\n",
    "\n"
   ]
  },
  {
   "cell_type": "markdown",
   "metadata": {},
   "source": [
    "### When to Use Lists?\n",
    "* When you need to incrementally/dynamically add things to the sequence\n",
    "* When the order matters\n",
    "\n",
    "## Tuples\n",
    "Similarly to list, tuples also represent sequences of elements. However, contrary to lists, tuples are *immutable*, meaning that they cannot be modified after creation."
   ]
  },
  {
   "cell_type": "code",
   "execution_count": 12,
   "metadata": {},
   "outputs": [
    {
     "name": "stdout",
     "output_type": "stream",
     "text": [
      "(11, 13, 15)\n"
     ]
    }
   ],
   "source": [
    "a_list = [1, 3, 5, 7, 9]\n",
    "a_tuple = (100, 11, 13, 15, 17, 19)\n",
    "\n",
    "print(a_tuple[1:4])"
   ]
  },
  {
   "cell_type": "code",
   "execution_count": 13,
   "metadata": {},
   "outputs": [
    {
     "data": {
      "text/plain": [
       "(100, 11, 13, 15, 17, 19)"
      ]
     },
     "execution_count": 13,
     "metadata": {},
     "output_type": "execute_result"
    }
   ],
   "source": [
    "a_tuple"
   ]
  },
  {
   "cell_type": "code",
   "execution_count": 14,
   "metadata": {},
   "outputs": [
    {
     "name": "stdout",
     "output_type": "stream",
     "text": [
      "[2, 3, 5, 7, 9]\n"
     ]
    },
    {
     "ename": "TypeError",
     "evalue": "'tuple' object does not support item assignment",
     "output_type": "error",
     "traceback": [
      "\u001b[0;31m---------------------------------------------------------------------------\u001b[0m",
      "\u001b[0;31mTypeError\u001b[0m                                 Traceback (most recent call last)",
      "\u001b[0;32m<ipython-input-14-a8794be571c5>\u001b[0m in \u001b[0;36m<module>\u001b[0;34m\u001b[0m\n\u001b[1;32m      1\u001b[0m \u001b[0ma_list\u001b[0m\u001b[0;34m[\u001b[0m\u001b[0;36m0\u001b[0m\u001b[0;34m]\u001b[0m \u001b[0;34m=\u001b[0m \u001b[0;36m2\u001b[0m\u001b[0;34m\u001b[0m\u001b[0;34m\u001b[0m\u001b[0m\n\u001b[1;32m      2\u001b[0m \u001b[0mprint\u001b[0m\u001b[0;34m(\u001b[0m\u001b[0ma_list\u001b[0m\u001b[0;34m)\u001b[0m\u001b[0;34m\u001b[0m\u001b[0;34m\u001b[0m\u001b[0m\n\u001b[0;32m----> 3\u001b[0;31m \u001b[0ma_tuple\u001b[0m\u001b[0;34m[\u001b[0m\u001b[0;36m0\u001b[0m\u001b[0;34m]\u001b[0m \u001b[0;34m=\u001b[0m \u001b[0;36m12\u001b[0m\u001b[0;34m\u001b[0m\u001b[0;34m\u001b[0m\u001b[0m\n\u001b[0m",
      "\u001b[0;31mTypeError\u001b[0m: 'tuple' object does not support item assignment"
     ]
    }
   ],
   "source": [
    "a_list[0] = 2\n",
    "print(a_list)\n",
    "a_tuple[0] = 12"
   ]
  },
  {
   "cell_type": "code",
   "execution_count": 15,
   "metadata": {},
   "outputs": [
    {
     "ename": "AttributeError",
     "evalue": "'tuple' object has no attribute 'append'",
     "output_type": "error",
     "traceback": [
      "\u001b[0;31m---------------------------------------------------------------------------\u001b[0m",
      "\u001b[0;31mAttributeError\u001b[0m                            Traceback (most recent call last)",
      "\u001b[0;32m<ipython-input-15-ee38cae101a8>\u001b[0m in \u001b[0;36m<module>\u001b[0;34m\u001b[0m\n\u001b[0;32m----> 1\u001b[0;31m \u001b[0ma_tuple\u001b[0m\u001b[0;34m.\u001b[0m\u001b[0mappend\u001b[0m\u001b[0;34m(\u001b[0m\u001b[0;36m1\u001b[0m\u001b[0;34m)\u001b[0m\u001b[0;34m\u001b[0m\u001b[0;34m\u001b[0m\u001b[0m\n\u001b[0m",
      "\u001b[0;31mAttributeError\u001b[0m: 'tuple' object has no attribute 'append'"
     ]
    }
   ],
   "source": [
    "a_tuple.append(1)"
   ]
  },
  {
   "cell_type": "markdown",
   "metadata": {},
   "source": [
    "### Some Tuple Functions and Operators\n",
    "* `len`: (built-in function) returns the length of a tuple\n",
    "* `in` / `not in`: (operator) indicating whether an element is / is not in a tuple\n",
    "* `+`: (operator) concatenating two tuples, returning a new tuple\n",
    "* `sorted`: (built-in function) returns a new *list*, which is the sorted version of the tuple given in argument"
   ]
  },
  {
   "cell_type": "code",
   "execution_count": 16,
   "metadata": {},
   "outputs": [
    {
     "name": "stdout",
     "output_type": "stream",
     "text": [
      "6\n",
      "False\n",
      "True\n",
      "False\n",
      "\n",
      "(100, 11, 13, 15, 17, 19, 903, 84, 388)\n",
      "[84, 388, 903]\n"
     ]
    }
   ],
   "source": [
    "another_tuple = (903, 84, 388)\n",
    "print(len(a_tuple))\n",
    "print(84 in a_tuple)\n",
    "print(84 in another_tuple)\n",
    "print(84 not in another_tuple)\n",
    "\n",
    "print()\n",
    "\n",
    "print(a_tuple + another_tuple)\n",
    "print(sorted(another_tuple))"
   ]
  },
  {
   "cell_type": "markdown",
   "metadata": {},
   "source": [
    "Note that immutability doesn't mean that you cannot re-assign the variable - only that the original value does not change:"
   ]
  },
  {
   "cell_type": "code",
   "execution_count": 17,
   "metadata": {},
   "outputs": [
    {
     "name": "stdout",
     "output_type": "stream",
     "text": [
      "(1, 2, 3)\n",
      "('a', 2, 'b')\n"
     ]
    }
   ],
   "source": [
    "a_tuple = (1, 2, 3)\n",
    "print(a_tuple)\n",
    "a_tuple = ('a', 2, 'b')\n",
    "print(a_tuple)"
   ]
  },
  {
   "cell_type": "markdown",
   "metadata": {},
   "source": [
    "What happened here? The original value (or object) `(1, 2, 3)` is not destroyed; it still exists somewhere in memory. The variable `a_tuple` used to point to this value, but is then changed to point to a different value `('a', 2, 'b')` instead.\n",
    "![image.png](images/memory_lists_vs_tuples.png)\n",
    "\n",
    "### When to Use Tuples?\n",
    "* When you need to represent static sequences, and have the guarantee they won't be modified\n",
    "* When the order matters\n",
    "\n",
    "## Sets\n",
    "A set is a collection of distinct objects.\n",
    "\n",
    "Distinct means no object `==` another in the set."
   ]
  },
  {
   "cell_type": "code",
   "execution_count": 18,
   "metadata": {},
   "outputs": [
    {
     "name": "stdout",
     "output_type": "stream",
     "text": [
      "{1, 2, 3, 'a'}\n"
     ]
    }
   ],
   "source": [
    "a_set = {1, 'a', 2, 3}\n",
    "print(a_set)"
   ]
  },
  {
   "cell_type": "code",
   "execution_count": 19,
   "metadata": {},
   "outputs": [
    {
     "name": "stdout",
     "output_type": "stream",
     "text": [
      "{1, 2}\n"
     ]
    }
   ],
   "source": [
    "another_set = {1, 1, 2}\n",
    "print(another_set)"
   ]
  },
  {
   "cell_type": "markdown",
   "metadata": {},
   "source": [
    "Contrary to lists and tuples, there is *no notion of ordering* in sets, and so we cannot use indices:"
   ]
  },
  {
   "cell_type": "code",
   "execution_count": 20,
   "metadata": {},
   "outputs": [
    {
     "ename": "TypeError",
     "evalue": "'set' object is not subscriptable",
     "output_type": "error",
     "traceback": [
      "\u001b[0;31m---------------------------------------------------------------------------\u001b[0m",
      "\u001b[0;31mTypeError\u001b[0m                                 Traceback (most recent call last)",
      "\u001b[0;32m<ipython-input-20-5458288f6fd7>\u001b[0m in \u001b[0;36m<module>\u001b[0;34m\u001b[0m\n\u001b[0;32m----> 1\u001b[0;31m \u001b[0ma_set\u001b[0m\u001b[0;34m[\u001b[0m\u001b[0;36m0\u001b[0m\u001b[0;34m]\u001b[0m  \u001b[0;31m# There is no \"first\" element in a set!\u001b[0m\u001b[0;34m\u001b[0m\u001b[0;34m\u001b[0m\u001b[0m\n\u001b[0m",
      "\u001b[0;31mTypeError\u001b[0m: 'set' object is not subscriptable"
     ]
    }
   ],
   "source": [
    "a_set[0]  # There is no \"first\" element in a set!"
   ]
  },
  {
   "cell_type": "markdown",
   "metadata": {},
   "source": [
    "### Some Set Functions and Operators\n",
    "* `len`: (built-in function) returns the length of a set\n",
    "* `add`: (set method) adds an element to the set\n",
    "* `in` / `not in`: (operator) indicating whether an element is / is not in a set\n",
    "* `sorted` (built-in function) returns a new list, which is the sorted version of the set given in argument"
   ]
  },
  {
   "cell_type": "code",
   "execution_count": 21,
   "metadata": {},
   "outputs": [
    {
     "name": "stdout",
     "output_type": "stream",
     "text": [
      "5\n",
      "\n",
      "After add: {1, 100, 42, (17, 19), 'abc', 'element_added'}\n",
      "\n",
      "True\n",
      "\n",
      "{'a', 'z', 'e', 'f', 'x'}\n",
      "['a', 'e', 'f', 'x', 'z']\n"
     ]
    }
   ],
   "source": [
    "a_set = {'abc', 1, 42, 100, (17, 19)}\n",
    "another_set = {'f', 'e', 'x', 'a', 'z'}\n",
    "print(len(a_set))\n",
    "print()\n",
    "\n",
    "a_set.add('element_added')\n",
    "print('After add: ' + str(a_set))\n",
    "print()\n",
    "\n",
    "print((17, 19) in a_set)\n",
    "\n",
    "print()\n",
    "\n",
    "print(another_set)\n",
    "print(sorted(another_set))"
   ]
  },
  {
   "cell_type": "markdown",
   "metadata": {},
   "source": [
    "### Some set theoretic operators\n",
    "* `|`: union (\"or\")\n",
    "* `&`: intersection\n",
    "* `^`: symmetric difference (\"exclusive or\")\n",
    "* `-`: difference\n",
    "* `<=` / `<`: is subset / is strict subset\n",
    "* `>=` / `>`: is superset / is strict superset"
   ]
  },
  {
   "cell_type": "code",
   "execution_count": 22,
   "metadata": {},
   "outputs": [
    {
     "name": "stdout",
     "output_type": "stream",
     "text": [
      "\"All\" natural numbers: {1, 2, 3, 4, 5, 6, 7, 8, 9, 10, 11, 12, 13, 14, 15, 16, 17, 18, 19, 20}\n",
      "All numbers both even and prime: {2}\n",
      "All numbers either odds or primes but not both: {1, 2, 9, 15}\n",
      "All odd numbers that are not primes: {1, 9, 15}\n"
     ]
    }
   ],
   "source": [
    "evens = {2, 4, 6, 8, 10, 12, 14, 16, 18, 20}\n",
    "odds = {1, 3, 5, 7, 9, 11, 13, 15, 17, 19}\n",
    "primes = {2, 3, 5, 7, 11, 13, 17, 19}\n",
    "\n",
    "print('\"All\" natural numbers: ' + str(evens | odds))\n",
    "print('All numbers both even and prime: ' + str(evens & primes))\n",
    "print('All numbers either odds or primes but not both: ' + str(odds ^ primes))\n",
    "print('All odd numbers that are not primes: ' + str(odds - primes))"
   ]
  },
  {
   "cell_type": "markdown",
   "metadata": {},
   "source": [
    "#### Exercise\n",
    "Using the sets above, find a way to answer wether all primes are odds"
   ]
  },
  {
   "cell_type": "code",
   "execution_count": null,
   "metadata": {},
   "outputs": [],
   "source": []
  },
  {
   "cell_type": "markdown",
   "metadata": {},
   "source": [
    "### Useful Parenthesis: Hashing\n",
    "A *hashing function* maps objects' data into fixed-size values (the *hash*).\n",
    "<img src=\"images/hash_fun.png\" width=\"350\">\n",
    "(image ref: [Wikipedia Hash function article](https://en.wikipedia.org/wiki/Hash_function))\n",
    "\n",
    "Python uses the built-in `hash` function in order to obtain objects' hashes:"
   ]
  },
  {
   "cell_type": "code",
   "execution_count": 23,
   "metadata": {},
   "outputs": [
    {
     "name": "stdout",
     "output_type": "stream",
     "text": [
      "-1665301378746104097\n",
      "-1665301378746104097\n",
      "-2671196758779546785\n"
     ]
    }
   ],
   "source": [
    "print(hash('abcdefghijklmnopqrstuvwxyz'))\n",
    "print(hash('abcdefghijklmnopqrstuvwxyz'))\n",
    "print(hash('Abcdefghijklmnopqrstuvwxyz'))"
   ]
  },
  {
   "cell_type": "markdown",
   "metadata": {},
   "source": [
    "In Python, sets are implemented using objects' hashes in order to efficiently perform set operations. However, only immutable objects can have hashes (this is to ensure that once a hash is computed it cannot change). Therefore, sets can contain only immutable objects (such as tuples or strings) but not mutable objects (such as lists or sets). To represent sets of sets, one can use `frozenset`s which are immutable sets.\n",
    "\n",
    "* **Immutable objects**: numbers (ints and floats), strings, tuples, frozensets\n",
    "* **Mutable objects**: lists, sets, dictionaries"
   ]
  },
  {
   "cell_type": "code",
   "execution_count": 24,
   "metadata": {},
   "outputs": [
    {
     "data": {
      "text/plain": [
       "{('bc', 'de', '4'), (1, 3.14)}"
      ]
     },
     "execution_count": 24,
     "metadata": {},
     "output_type": "execute_result"
    }
   ],
   "source": [
    "{(1, 3.14), ('bc', 'de', '4')}  ## This is fine"
   ]
  },
  {
   "cell_type": "code",
   "execution_count": 29,
   "metadata": {},
   "outputs": [
    {
     "ename": "TypeError",
     "evalue": "unhashable type: 'list'",
     "output_type": "error",
     "traceback": [
      "\u001b[0;31m---------------------------------------------------------------------------\u001b[0m",
      "\u001b[0;31mTypeError\u001b[0m                                 Traceback (most recent call last)",
      "\u001b[0;32m<ipython-input-29-90a4cea16b8b>\u001b[0m in \u001b[0;36m<module>\u001b[0;34m\u001b[0m\n\u001b[0;32m----> 1\u001b[0;31m \u001b[0;34m{\u001b[0m\u001b[0;34m[\u001b[0m\u001b[0;36m1\u001b[0m\u001b[0;34m,\u001b[0m \u001b[0;36m3.14\u001b[0m\u001b[0;34m]\u001b[0m\u001b[0;34m,\u001b[0m \u001b[0;34m(\u001b[0m\u001b[0;34m'bc'\u001b[0m\u001b[0;34m,\u001b[0m \u001b[0;34m'de'\u001b[0m\u001b[0;34m,\u001b[0m \u001b[0;34m'4'\u001b[0m\u001b[0;34m)\u001b[0m\u001b[0;34m}\u001b[0m  \u001b[0;31m## This doesn't work, because lists are mutable, and not hashable\u001b[0m\u001b[0;34m\u001b[0m\u001b[0;34m\u001b[0m\u001b[0m\n\u001b[0m",
      "\u001b[0;31mTypeError\u001b[0m: unhashable type: 'list'"
     ]
    }
   ],
   "source": [
    "{[1, 3.14], ('bc', 'de', '4')}  ## This doesn't work, because lists are mutable, and not hashable"
   ]
  },
  {
   "cell_type": "code",
   "execution_count": 30,
   "metadata": {},
   "outputs": [
    {
     "ename": "TypeError",
     "evalue": "unhashable type: 'set'",
     "output_type": "error",
     "traceback": [
      "\u001b[0;31m---------------------------------------------------------------------------\u001b[0m",
      "\u001b[0;31mTypeError\u001b[0m                                 Traceback (most recent call last)",
      "\u001b[0;32m<ipython-input-30-a9329db96a61>\u001b[0m in \u001b[0;36m<module>\u001b[0;34m\u001b[0m\n\u001b[0;32m----> 1\u001b[0;31m \u001b[0;34m{\u001b[0m\u001b[0;34m{\u001b[0m\u001b[0;36m1\u001b[0m\u001b[0;34m,\u001b[0m \u001b[0;36m2\u001b[0m\u001b[0;34m}\u001b[0m\u001b[0;34m,\u001b[0m \u001b[0;36m3\u001b[0m\u001b[0;34m}\u001b[0m  \u001b[0;31m## This doesn't work, because sets themselves are mutable and not hashable\u001b[0m\u001b[0;34m\u001b[0m\u001b[0;34m\u001b[0m\u001b[0m\n\u001b[0m",
      "\u001b[0;31mTypeError\u001b[0m: unhashable type: 'set'"
     ]
    }
   ],
   "source": [
    "{{1, 2}, 3}  ## This doesn't work, because sets themselves are mutable and not hashable"
   ]
  },
  {
   "cell_type": "code",
   "execution_count": 31,
   "metadata": {},
   "outputs": [
    {
     "name": "stdout",
     "output_type": "stream",
     "text": [
      "True\n"
     ]
    }
   ],
   "source": [
    "set_of_set = {frozenset({1, 2}), 3}\n",
    "print({frozenset({1, 2})} < set_of_set)"
   ]
  },
  {
   "cell_type": "code",
   "execution_count": 32,
   "metadata": {},
   "outputs": [
    {
     "data": {
      "text/plain": [
       "False"
      ]
     },
     "execution_count": 32,
     "metadata": {},
     "output_type": "execute_result"
    }
   ],
   "source": [
    "'a' in a_set"
   ]
  },
  {
   "cell_type": "markdown",
   "metadata": {},
   "source": [
    "### When to use sets?\n",
    "* When you need to test membership\n",
    "* When you need to perform logical / set-theoretic operations\n",
    "* When the order doesn't matter\n",
    "\n",
    "## Dicts (Hashtables)\n",
    "Dictionaries in Python represent key-->value mappings. For example, assume that we want to store people's ages - we can do so with a `dict`:"
   ]
  },
  {
   "cell_type": "code",
   "execution_count": 36,
   "metadata": {},
   "outputs": [],
   "source": [
    "ages = {'Alice': 51, 'Bob': 45, 'Sophie': 28, 'Basile': 2.5}"
   ]
  },
  {
   "cell_type": "code",
   "execution_count": 37,
   "metadata": {},
   "outputs": [
    {
     "data": {
      "text/plain": [
       "2.5"
      ]
     },
     "execution_count": 37,
     "metadata": {},
     "output_type": "execute_result"
    }
   ],
   "source": [
    "ages['Basile']"
   ]
  },
  {
   "cell_type": "markdown",
   "metadata": {},
   "source": [
    "Here the *keys* are the names and the *values* are the ages. With this representation, it is very easy to retrieve someone's age:"
   ]
  },
  {
   "cell_type": "code",
   "execution_count": 38,
   "metadata": {},
   "outputs": [
    {
     "name": "stdout",
     "output_type": "stream",
     "text": [
      "Sophie is 45 years old and Basile is 2.5 years old.\n"
     ]
    }
   ],
   "source": [
    "sophie_age = ages['Bob']\n",
    "basile_age = ages['Basile']\n",
    "print('Sophie is ' + str(sophie_age) + ' years old and Basile is ' + str(basile_age) + ' years old.')"
   ]
  },
  {
   "cell_type": "markdown",
   "metadata": {},
   "source": [
    "Similar to sets, dictionary keys are *unique*. In this sense, dictionaries can be seen as sets of keys with values attached to them. They also rely on keys' hashes for their implementation. Therefore, keys must be hashable (and thus immutable):"
   ]
  },
  {
   "cell_type": "code",
   "execution_count": 39,
   "metadata": {},
   "outputs": [
    {
     "data": {
      "text/plain": [
       "{(1, 2): 'one_two', 3: 'three'}"
      ]
     },
     "execution_count": 39,
     "metadata": {},
     "output_type": "execute_result"
    }
   ],
   "source": [
    "{'one': 1, 'two': 2}  ## This works\n",
    "{(1, 2): 'one_two', 3: 'three'}  ## This works"
   ]
  },
  {
   "cell_type": "code",
   "execution_count": 40,
   "metadata": {},
   "outputs": [
    {
     "ename": "TypeError",
     "evalue": "unhashable type: 'list'",
     "output_type": "error",
     "traceback": [
      "\u001b[0;31m---------------------------------------------------------------------------\u001b[0m",
      "\u001b[0;31mTypeError\u001b[0m                                 Traceback (most recent call last)",
      "\u001b[0;32m<ipython-input-40-21b2d6bde6e0>\u001b[0m in \u001b[0;36m<module>\u001b[0;34m\u001b[0m\n\u001b[0;32m----> 1\u001b[0;31m \u001b[0;34m{\u001b[0m\u001b[0;34m[\u001b[0m\u001b[0;36m1\u001b[0m\u001b[0;34m,\u001b[0m \u001b[0;36m2\u001b[0m\u001b[0;34m]\u001b[0m\u001b[0;34m:\u001b[0m \u001b[0;34m'one_two'\u001b[0m\u001b[0;34m,\u001b[0m \u001b[0;36m3\u001b[0m\u001b[0;34m:\u001b[0m \u001b[0;34m'three'\u001b[0m\u001b[0;34m}\u001b[0m  \u001b[0;31m## This fails because lists are mutable and not hashable\u001b[0m\u001b[0;34m\u001b[0m\u001b[0;34m\u001b[0m\u001b[0m\n\u001b[0m",
      "\u001b[0;31mTypeError\u001b[0m: unhashable type: 'list'"
     ]
    }
   ],
   "source": [
    "{[1, 2]: 'one_two', 3: 'three'}  ## This fails because lists are mutable and not hashable"
   ]
  },
  {
   "cell_type": "markdown",
   "metadata": {},
   "source": [
    "### Building and filling dictionaries:\n",
    "An empty dictionary can be built by calling the built-in function `dict`:"
   ]
  },
  {
   "cell_type": "code",
   "execution_count": 41,
   "metadata": {},
   "outputs": [],
   "source": [
    "a_dict = dict()"
   ]
  },
  {
   "cell_type": "markdown",
   "metadata": {},
   "source": [
    "It is then possible to add elements like this:"
   ]
  },
  {
   "cell_type": "code",
   "execution_count": 42,
   "metadata": {},
   "outputs": [],
   "source": [
    "a_dict['a_key'] = 'a_value'\n",
    "a_dict['pi'] = 3.141592"
   ]
  },
  {
   "cell_type": "markdown",
   "metadata": {},
   "source": [
    "Values can be overwritten by re-writing on the same key:"
   ]
  },
  {
   "cell_type": "code",
   "execution_count": 43,
   "metadata": {},
   "outputs": [
    {
     "name": "stdout",
     "output_type": "stream",
     "text": [
      "a_value\n",
      "another_value\n"
     ]
    }
   ],
   "source": [
    "a_dict['a_key'] = 'a_value'\n",
    "print(a_dict['a_key'])\n",
    "a_dict['a_key'] = 'another_value'\n",
    "print(a_dict['a_key'])"
   ]
  },
  {
   "cell_type": "markdown",
   "metadata": {},
   "source": [
    "Note that while keys are immutable, values may not be!"
   ]
  },
  {
   "cell_type": "code",
   "execution_count": 44,
   "metadata": {},
   "outputs": [
    {
     "name": "stdout",
     "output_type": "stream",
     "text": [
      "[1, 'new_elem', 2, 3]\n"
     ]
    }
   ],
   "source": [
    "my_list = [1, 2, 3]\n",
    "a_dict = dict()\n",
    "a_dict['a_key'] = my_list\n",
    "\n",
    "## ... Somewhere else in the code ... someone changes some values:\n",
    "my_list.insert(1, 'new_elem')\n",
    "\n",
    "print(a_dict['a_key'])  ## This is not what was initially stored in the dict!"
   ]
  },
  {
   "cell_type": "markdown",
   "metadata": {},
   "source": [
    "### Some Dict Functions and Operators:\n",
    "* `len`: (built-in function) returns the number of items (keys) in the dict\n",
    "* `in` / `not in` (operator) indicating whether an object is / is not a key of the dict\n",
    "* `items`: (dict method) returns a list of (key, value) tuples\n",
    "* `keys`: (dict method) returns all the keys\n",
    "* `values`: (dict method) returns all the values\n",
    "\n",
    "### When to use dictionaries?\n",
    "* When you need to efficiently access values from keys\n",
    "* When grouping/aggregating stuff\n",
    "* When the order doesn't matter"
   ]
  },
  {
   "cell_type": "markdown",
   "metadata": {},
   "source": [
    "## Summary\n",
    "* Lists: `[1, 2, 3]` - mutable sequences\n",
    "* Tuples: `(1, 2, 3)` - immutable sequences; hashable\n",
    "* Sets: `{1, 2, 3}` - collections of hashable objects, no order\n",
    "* Dictionaries: `{'one': 1, 'two': 2, 'three': 3}` - mapping from key to value, where keys are hashable.\n",
    "\n",
    "### Exercise\n",
    "Write a dictionary mapping each name string \"List\", \"Tuple\", \"Set\" and \"Dictionary\" to an example value of the corresponding type."
   ]
  },
  {
   "cell_type": "code",
   "execution_count": 45,
   "metadata": {},
   "outputs": [],
   "source": [
    "d = {'List': [1, 2, 3], 'Tuple': (1, 2, 3), 'Set': {1, 2, 3}, 'Dict': {'one': 1, 'two': 2, 'three': 3}}"
   ]
  }
 ],
 "metadata": {
  "kernelspec": {
   "display_name": "Python 3",
   "language": "python",
   "name": "python3"
  },
  "language_info": {
   "codemirror_mode": {
    "name": "ipython",
    "version": 3
   },
   "file_extension": ".py",
   "mimetype": "text/x-python",
   "name": "python",
   "nbconvert_exporter": "python",
   "pygments_lexer": "ipython3",
   "version": "3.8.3"
  }
 },
 "nbformat": 4,
 "nbformat_minor": 4
}
