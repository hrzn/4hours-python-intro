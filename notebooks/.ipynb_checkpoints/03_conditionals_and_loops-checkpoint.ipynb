{
 "cells": [
  {
   "cell_type": "markdown",
   "metadata": {},
   "source": [
    "# Conditionals, Blocks of Code, Loops\n",
    "## Conditionals\n",
    "Conditionals are statements that allow us to specify code fragments that may or may not be executed, depending on the value taken by some booleans."
   ]
  },
  {
   "cell_type": "code",
   "execution_count": 1,
   "metadata": {},
   "outputs": [
    {
     "name": "stdout",
     "output_type": "stream",
     "text": [
      "This will be printed.\n",
      "This as well\n",
      "This is printed anyway.\n"
     ]
    }
   ],
   "source": [
    "if True:\n",
    "    print('This will be printed.')\n",
    "    print('This as well')\n",
    "\n",
    "if False:\n",
    "    print('This will not be printed.')\n",
    "    \n",
    "print('This is printed anyway.')"
   ]
  },
  {
   "cell_type": "code",
   "execution_count": 2,
   "metadata": {},
   "outputs": [],
   "source": [
    "val = 10\n",
    "if val == 11:\n",
    "    print('This will print')"
   ]
  },
  {
   "cell_type": "markdown",
   "metadata": {},
   "source": [
    "Conditionals can be used to make the program dynamically depend on the state of some variables, for instance:"
   ]
  },
  {
   "cell_type": "code",
   "execution_count": 3,
   "metadata": {},
   "outputs": [
    {
     "name": "stdout",
     "output_type": "stream",
     "text": [
      "please enter a denominator: 0\n",
      "Sorry, I cannot divide by zero.\n"
     ]
    }
   ],
   "source": [
    "numerator = 100\n",
    "denominator = float(input('please enter a denominator: '))\n",
    "\n",
    "if denominator == 0:\n",
    "    print('Sorry, I cannot divide by zero.')\n",
    "else:\n",
    "    result = numerator / denominator\n",
    "    print(str(numerator) + ' / ' + str(denominator) + ' = ' + str(result))"
   ]
  },
  {
   "cell_type": "markdown",
   "metadata": {},
   "source": [
    "### A few things to note\n",
    "* The syntax is `if <bool>:`\n",
    "* The code \"below\" the `if` statement is indented. **Indentation matters in Python**. It defines blocks of code.\n",
    "* Use 4 spaces of indentation (c.f. [PEP8](https://www.python.org/dev/peps/pep-0008/#indentation)).\n",
    "* The `else:` statement is optional. The `else` block of code is executed only if the `if` statement is `False`.\n",
    "* There is also an `elif` optional statement, which stands for \"else if\":"
   ]
  },
  {
   "cell_type": "code",
   "execution_count": 4,
   "metadata": {},
   "outputs": [
    {
     "name": "stdout",
     "output_type": "stream",
     "text": [
      "Dividing by one has no effect, so I'd rather not do it, sorry.\n"
     ]
    }
   ],
   "source": [
    "denominator = 1\n",
    "\n",
    "if denominator == 0:\n",
    "    print('Sorry, I cannot divide by zero.')\n",
    "elif denominator == 1:\n",
    "    print(\"Dividing by one has no effect, so I'd rather not do it, sorry.\")\n",
    "elif abs(denominator - 1) < 0.1:\n",
    "    print(\"This denominator is reaaallly close to one, so I'd rather not perform the division.\")\n",
    "else:\n",
    "    print(numerator / denominator)"
   ]
  },
  {
   "cell_type": "markdown",
   "metadata": {},
   "source": [
    "In a sequence of `if, elif ... elif, else` statements, the first statement that has a `True` condition is executed. For instance in the example above, if `denominator` is `1`, the first `elif` statement is executed but not the second one (even though its condition is also `True`)."
   ]
  },
  {
   "cell_type": "markdown",
   "metadata": {},
   "source": [
    "### Exercise\n",
    "Given the set of prime numbers below, print whether the given number is\n",
    "* Above 20,\n",
    "* a prime below 20,\n",
    "* a number below 20 that is not prime."
   ]
  },
  {
   "cell_type": "code",
   "execution_count": 5,
   "metadata": {},
   "outputs": [
    {
     "name": "stdout",
     "output_type": "stream",
     "text": [
      "please enter a number: 17\n",
      "A prime below 20\n"
     ]
    }
   ],
   "source": [
    "primes_below_20 = {2, 3, 5, 7, 11, 13, 17, 19}\n",
    "number_to_check = float(input('please enter a number: '))\n",
    "\n",
    "### Perform the checks\n",
    "if number_to_check > 20:\n",
    "    print('Above 20')\n",
    "elif number_to_check <= 20 and number_to_check in primes_below_20:\n",
    "    print('A prime below 20')\n",
    "else:\n",
    "    print('Below 20 and not prime')"
   ]
  },
  {
   "cell_type": "markdown",
   "metadata": {},
   "source": [
    "### Exercise\n",
    "Print something if the given number is a prime smaller than 10 *or* if it is 1. (Hint: think about the `and` and `or` boolean operators)."
   ]
  },
  {
   "cell_type": "code",
   "execution_count": null,
   "metadata": {},
   "outputs": [],
   "source": [
    "primes_below_20 = {2, 3, 5, 7, 11, 13, 17, 19}\n",
    "number_to_check = float(input('please enter a number: '))\n",
    "\n",
    "### Print something if the number is a prime smaller than 10, or if it is 1.\n",
    "if ... :\n",
    "    print('something')"
   ]
  },
  {
   "cell_type": "markdown",
   "metadata": {},
   "source": [
    "# Loops\n",
    "When some parts of the code have to be repeateadly executed, we can use *loops*. The most common construct for a loop in Python is:\n",
    "```\n",
    "for <variable> in <iterable>:\n",
    "    < block of code >\n",
    "```\n",
    "According to the [documentation](https://docs.python.org/3/glossary.html), an *iterable* is \"an object capable of returning its members one at a time\". All the data structures that we have seen so far (lists, tuples, sets, dicts, and even strings) are iterable. For instance:"
   ]
  },
  {
   "cell_type": "code",
   "execution_count": 6,
   "metadata": {},
   "outputs": [
    {
     "name": "stdout",
     "output_type": "stream",
     "text": [
      "2 is prime.\n",
      "3 is prime.\n",
      "5 is prime.\n",
      "7 is prime.\n",
      "11 is prime.\n",
      "13 is prime.\n",
      "19 is prime.\n",
      "17 is prime.\n"
     ]
    }
   ],
   "source": [
    "primes = [2, 3, 5, 7, 11, 13, 19, 17]\n",
    "\n",
    "for prime in primes:\n",
    "    print(str(prime) + ' is prime.')"
   ]
  },
  {
   "cell_type": "markdown",
   "metadata": {},
   "source": [
    "### `range`\n",
    "In addition to iterating over already-existing data structures, Python also allows us to iterate over ranges of numbers defined on-the-fly, using the `range` built-in function:"
   ]
  },
  {
   "cell_type": "code",
   "execution_count": 7,
   "metadata": {},
   "outputs": [
    {
     "name": "stdout",
     "output_type": "stream",
     "text": [
      "9\n",
      "16\n",
      "25\n",
      "36\n",
      "49\n",
      "64\n",
      "81\n"
     ]
    }
   ],
   "source": [
    "for n in range(3, 10):\n",
    "    print(n**2)"
   ]
  },
  {
   "cell_type": "code",
   "execution_count": 8,
   "metadata": {},
   "outputs": [
    {
     "name": "stdout",
     "output_type": "stream",
     "text": [
      "[0, 1, 4, 9, 16, 25, 36, 49, 64, 81, 100, 121, 144, 169, 196, 225, 256, 289, 324, 361]\n",
      "[0, 1, 4, 9, 16, 25, 36, 49, 64, 81, 100, 121, 144, 169, 196, 225, 256, 289, 324, 361]\n"
     ]
    }
   ],
   "source": [
    "my_list = []\n",
    "\n",
    "for n in range(20):\n",
    "    my_list.append(n**2)\n",
    "    \n",
    "print(my_list)\n",
    "\n",
    "# Another, shorter construct doing the same thing:\n",
    "print([n**2 for n in range(20)])"
   ]
  },
  {
   "cell_type": "markdown",
   "metadata": {},
   "source": [
    "This is very convenient and common - imagine if you had to write a list instead of using `range(10000)` :)\n",
    "\n",
    "Using such loops, you can very quickly perform operations on very large amounts of numbers!\n",
    "\n",
    "### Exercise\n",
    "Loop over all the numbers between 0 and 999,999, and print something when the number is divisible by 92,723.\n",
    "\n",
    "*hint*: For two integers `n` and `d`, `n % d` is 0 when `n` is divisible by `d`."
   ]
  },
  {
   "cell_type": "code",
   "execution_count": null,
   "metadata": {},
   "outputs": [],
   "source": []
  },
  {
   "cell_type": "markdown",
   "metadata": {},
   "source": [
    "### Breaking out of loops\n",
    "Let's say we want to count how many primes there are that are smaller than 10:"
   ]
  },
  {
   "cell_type": "code",
   "execution_count": 10,
   "metadata": {},
   "outputs": [
    {
     "name": "stdout",
     "output_type": "stream",
     "text": [
      "Checking 2\n",
      "Checking 3\n",
      "Checking 5\n",
      "Checking 7\n",
      "Checking 11\n",
      "Checking 13\n",
      "Checking 17\n",
      "Checking 19\n",
      "There are 4 primes smaller than 10.\n"
     ]
    }
   ],
   "source": [
    "primes = {3, 11, 7, 13, 19, 17, 2, 5}\n",
    "\n",
    "counter = 0\n",
    "for prime in primes:\n",
    "    print('Checking ' + str(prime))\n",
    "    if prime < 10:\n",
    "        counter = counter + 1\n",
    "\n",
    "print('There are ' + str(counter) + ' primes smaller than 10.')"
   ]
  },
  {
   "cell_type": "markdown",
   "metadata": {},
   "source": [
    "That works, but could possibly lead us to many more iterations than necessary (imagine if `primes` contains all primes smaller than 100,000), which can be inefficient. In such a case, we can use a `break` statement, which simply exits the loop:"
   ]
  },
  {
   "cell_type": "code",
   "execution_count": 11,
   "metadata": {},
   "outputs": [
    {
     "name": "stdout",
     "output_type": "stream",
     "text": [
      "Checking 2\n",
      "Checking 3\n",
      "Checking 5\n",
      "Checking 7\n",
      "Checking 11\n",
      "There are 4 primes smaller than 10.\n"
     ]
    }
   ],
   "source": [
    "primes_list = [2, 3, 5, 7, 11, 13, 17, 19]\n",
    "\n",
    "counter = 0\n",
    "for prime in primes_list:\n",
    "    print('Checking ' + str(prime))\n",
    "    if prime < 10:\n",
    "        counter = counter + 1\n",
    "    else:\n",
    "        break\n",
    "print('There are ' + str(counter) + ' primes smaller than 10.')"
   ]
  },
  {
   "cell_type": "code",
   "execution_count": 12,
   "metadata": {},
   "outputs": [
    {
     "name": "stdout",
     "output_type": "stream",
     "text": [
      "inside\n"
     ]
    }
   ],
   "source": [
    "primes_list = [2, 3, 5, 7, 11, 13, 17, 19]\n",
    "\n",
    "number_to_check = 5\n",
    "\n",
    "for prime in primes:\n",
    "    if prime == number_to_check:\n",
    "        print('inside')\n",
    "        break"
   ]
  },
  {
   "cell_type": "markdown",
   "metadata": {},
   "source": [
    "**Question:** Note that in this last example we are iterating over a list (and not a set). Why?"
   ]
  },
  {
   "cell_type": "markdown",
   "metadata": {},
   "source": [
    "### While Loops\n",
    "\n",
    "The `while` keyword allows to keep looping as long as some condition is `True`:"
   ]
  },
  {
   "cell_type": "code",
   "execution_count": 13,
   "metadata": {},
   "outputs": [
    {
     "name": "stdout",
     "output_type": "stream",
     "text": [
      "0\n",
      "1\n",
      "2\n",
      "3\n",
      "4\n"
     ]
    }
   ],
   "source": [
    "counter = 0\n",
    "\n",
    "while counter < 5:\n",
    "    print(counter)\n",
    "    counter = counter + 1"
   ]
  },
  {
   "cell_type": "markdown",
   "metadata": {},
   "source": [
    "When we do not know in advance when exactly the loop should be over, we can use `while True` along with `break`:"
   ]
  },
  {
   "cell_type": "code",
   "execution_count": 14,
   "metadata": {},
   "outputs": [
    {
     "name": "stdout",
     "output_type": "stream",
     "text": [
      "0\n",
      "1\n",
      "2\n",
      "3\n",
      "4\n"
     ]
    }
   ],
   "source": [
    "counter = 0\n",
    "\n",
    "while True:\n",
    "    print(counter)\n",
    "    counter = counter + 1\n",
    "    if counter == 5:\n",
    "        break"
   ]
  },
  {
   "cell_type": "markdown",
   "metadata": {},
   "source": [
    "### Iterating Over Data Structures\n",
    "Note that it is possible to iterate over different things, including some data structures. For instance, when iterating over dictionaries using `for ... in ...`, the iteration is done over keys:"
   ]
  },
  {
   "cell_type": "code",
   "execution_count": 15,
   "metadata": {},
   "outputs": [
    {
     "name": "stdout",
     "output_type": "stream",
     "text": [
      "This is a key: one\n",
      "This is a key: two\n",
      "This is a key: three\n"
     ]
    }
   ],
   "source": [
    "a_dict = {'one': 1, 'two': 2, 'three': 3}\n",
    "\n",
    "# Simple iteration over keys:\n",
    "for key in a_dict:\n",
    "    print('This is a key: ' + key)"
   ]
  },
  {
   "cell_type": "markdown",
   "metadata": {},
   "source": [
    "But we can also iterate over the result of the `items` dictionary method, which returns an iterable of (key, value) tuples:"
   ]
  },
  {
   "cell_type": "code",
   "execution_count": 16,
   "metadata": {},
   "outputs": [
    {
     "name": "stdout",
     "output_type": "stream",
     "text": [
      "dict_keys(['one', 'two', 'three'])\n",
      "dict_values([1, 2, 3])\n",
      "dict_items([('one', 1), ('two', 2), ('three', 3)])\n"
     ]
    }
   ],
   "source": [
    "print(a_dict.keys())\n",
    "print(a_dict.values())\n",
    "print(a_dict.items())"
   ]
  },
  {
   "cell_type": "code",
   "execution_count": 17,
   "metadata": {},
   "outputs": [
    {
     "name": "stdout",
     "output_type": "stream",
     "text": [
      "This is a key: one, and this is the corresponding value: 1\n",
      "This is a key: two, and this is the corresponding value: 2\n",
      "This is a key: three, and this is the corresponding value: 3\n"
     ]
    }
   ],
   "source": [
    "# Iteration over (key, value) tuples:\n",
    "for key_value_tuple in a_dict.items():\n",
    "    key = key_value_tuple[0]\n",
    "    value = key_value_tuple[1]\n",
    "    print('This is a key: ' + key + ', and this is the corresponding value: ' + str(value))"
   ]
  }
 ],
 "metadata": {
  "kernelspec": {
   "display_name": "Python 3",
   "language": "python",
   "name": "python3"
  },
  "language_info": {
   "codemirror_mode": {
    "name": "ipython",
    "version": 3
   },
   "file_extension": ".py",
   "mimetype": "text/x-python",
   "name": "python",
   "nbconvert_exporter": "python",
   "pygments_lexer": "ipython3",
   "version": "3.8.3"
  }
 },
 "nbformat": 4,
 "nbformat_minor": 4
}
