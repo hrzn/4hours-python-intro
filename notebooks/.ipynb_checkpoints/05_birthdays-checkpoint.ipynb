{
 "cells": [
  {
   "cell_type": "markdown",
   "metadata": {},
   "source": [
    "# Birthday Paradox Exercise\n",
    "This exercise comes from the [DSFM code-bank](https://github.com/dsfm-org/code-bank/blob/master/exercises/simulation-birthdays/simulation-birthdays.ipynb) repository of code. It has been replicated (and slightly adapted) here for ease of use in the Python workshop.\n",
    "\n",
    "Eventually you will learn many advanced Python tools -- such as numpy, scipy, Pandas, scikit-learn, and other specialized libraries. But even beginners can use pure Python to answer some very interesting questions. In this Exercise you will need to write a pure Python program to answer the following question.\n",
    "\n",
    "## Question\n",
    "```\n",
    "On average, what is the maximum number of randomly-selected people that can go into a room, \n",
    "such that no one in the room will share the same day of the year for their birthday with anyone else in the room?\n",
    "```\n",
    "\n",
    "## Solution"
   ]
  },
  {
   "cell_type": "code",
   "execution_count": null,
   "metadata": {},
   "outputs": [],
   "source": [
    "# Hint: You need the following module to generate random integers\n",
    "from random import randint   \n",
    "\n",
    "# Collect results\n",
    "results = []\n",
    "\n",
    "# Run experiments\n",
    "for experiment in range(10000):\n",
    "    \n",
    "    room = set()\n",
    "    \n",
    "    # CODE HERE\n",
    "    # Create a while loop that continues as long as no two people have the same birthday\n",
    "\n",
    "    results.append(len(room)) \n",
    "    \n",
    "print('Average number of people in the room: ', round(sum(results)/len(results), 4))"
   ]
  },
  {
   "cell_type": "markdown",
   "metadata": {},
   "source": [
    "## Plotting Results\n",
    "#### External Libraries\n",
    "Here, we will use an *external library* called matplotlib. External libraries can be used just like the Python standard library modules, except that they need to be installed separately. Some Python distributions such as Anaconda already come with a great deal of external libraries for scientific computing. It is also possible to install libraries using the `pip` command.\n",
    "\n",
    "#### Example: Plotting a Histogram\n",
    "The question asks us to give an answer \"on average\". You therefore should simulate many experiments. Any one experiment will give you just one example of what to expect, and it might be higher or lower than an answer \"on average\". Plot a histogram of your experimental results."
   ]
  },
  {
   "cell_type": "code",
   "execution_count": null,
   "metadata": {},
   "outputs": [],
   "source": [
    "# Hint: You need the following module to plot histograms\n",
    "import matplotlib.pyplot as plt\n",
    "\n",
    "### Your solution\n",
    "\n",
    "plt.show()"
   ]
  },
  {
   "cell_type": "markdown",
   "metadata": {},
   "source": [
    "## Follow-up Question - How about the Birthday Paradox on Different Planets?!\n",
    "So far, we have assumed that a year has 365 days and thus that the probability of any birth day is $1/365$.\n",
    "\n",
    "However, not all planets have 365 days! What about all the other earth-like exoplanets out there? Their inhabitants certainly would be curious about their birthday paradox.\n",
    "\n",
    "Below, we will compute the average maximum number of people (as before) for different year lengths. First, let's start by encapsulating our previous logic into a function:"
   ]
  },
  {
   "cell_type": "code",
   "execution_count": null,
   "metadata": {},
   "outputs": [],
   "source": [
    "import numpy as np\n",
    "from random import randint\n",
    "\n",
    "def compute_average(nr_days_in_year, nr_runs=1000):\n",
    "    \"\"\" Performs a simulation (as before) for a given number of days in the year\n",
    "    \"\"\"\n",
    "    pass"
   ]
  },
  {
   "cell_type": "markdown",
   "metadata": {},
   "source": [
    "Let's call this function for different number of days in the year, and store the corresponding results:"
   ]
  },
  {
   "cell_type": "code",
   "execution_count": null,
   "metadata": {},
   "outputs": [],
   "source": [
    "all_nr_days = range(1, 1001, 10)\n",
    "average_numbers = []\n",
    "\n",
    "for nr_days in all_nr_days:\n",
    "    ### compute the average for this number of days, and append to the list of averages"
   ]
  },
  {
   "cell_type": "markdown",
   "metadata": {},
   "source": [
    "And let's plot how the average maximum number of people evolves with the number of days in the year:"
   ]
  },
  {
   "cell_type": "code",
   "execution_count": null,
   "metadata": {},
   "outputs": [],
   "source": [
    "import matplotlib.pyplot as plt\n",
    "\n",
    "plt.figure(figsize=(6, 4))\n",
    "plt.plot(list(all_nr_days), average_numbers, lw=3)\n",
    "plt.xlabel('Number of days in the year')\n",
    "plt.ylabel('Average max number of people with distinct birthdays')"
   ]
  },
  {
   "cell_type": "markdown",
   "metadata": {},
   "source": [
    "You can try experimenting with 1,000, 3,000 and even 10,000 days. What do you observe?\n",
    "\n",
    "#### Follow-up Question1:\n",
    "In addition to plotting the average number of people, you can try also plotting the standard deviation.\n",
    "\n",
    "#### Follow-up Question 2:\n",
    "Can you find a good fit for the function above (giving the average number of people given the number of days)?\n",
    "*Hint*: `y = x**0.5` is a good start"
   ]
  },
  {
   "cell_type": "code",
   "execution_count": null,
   "metadata": {},
   "outputs": [],
   "source": []
  }
 ],
 "metadata": {
  "kernelspec": {
   "display_name": "Python 3",
   "language": "python",
   "name": "python3"
  },
  "language_info": {
   "codemirror_mode": {
    "name": "ipython",
    "version": 3
   },
   "file_extension": ".py",
   "mimetype": "text/x-python",
   "name": "python",
   "nbconvert_exporter": "python",
   "pygments_lexer": "ipython3",
   "version": "3.8.3"
  }
 },
 "nbformat": 4,
 "nbformat_minor": 4
}
