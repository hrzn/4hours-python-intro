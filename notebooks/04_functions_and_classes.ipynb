{
 "cells": [
  {
   "cell_type": "markdown",
   "metadata": {},
   "source": [
    "# Functions, Scope, Classes and Standard Lib\n",
    "\n",
    "## Writing Our Own Functions\n",
    "We have already seen how to use existing functions; built-in functions such as `print` or `sorted`, or methods such as `append` on lists.\n",
    "\n",
    "It turns out we can also easily write our own functions. This is extremely useful when we need to write code that has to be re-used in different places.\n",
    "\n",
    "For example, imagine that every time we use `print` we want to prepend a certain message to what is being printed:"
   ]
  },
  {
   "cell_type": "code",
   "execution_count": 1,
   "metadata": {},
   "outputs": [
    {
     "name": "stdout",
     "output_type": "stream",
     "text": [
      "[This is my special print] I want to print something.\n",
      "[This is my special print] Then something else.\n",
      "[This is my special print] etc.\n"
     ]
    }
   ],
   "source": [
    "print('[This is my special print] ' + 'I want to print something.')\n",
    "print('[This is my special print] ' + 'Then something else.')\n",
    "print('[This is my special print] ' + 'etc.')"
   ]
  },
  {
   "cell_type": "markdown",
   "metadata": {},
   "source": [
    "This is ugly because we always have to repeat our special message. Instead, we could define our own `my_print` function:"
   ]
  },
  {
   "cell_type": "code",
   "execution_count": 2,
   "metadata": {},
   "outputs": [
    {
     "name": "stdout",
     "output_type": "stream",
     "text": [
      "[This is my special print] I want to print something.\n",
      "[This is my special print] Then something else.\n",
      "[This is my special print] etc.\n"
     ]
    }
   ],
   "source": [
    "def my_print(message):\n",
    "    print('[This is my special print] ' + message)\n",
    "    \n",
    "my_print('I want to print something.')\n",
    "my_print('Then something else.')\n",
    "my_print('etc.')"
   ]
  },
  {
   "cell_type": "markdown",
   "metadata": {},
   "source": [
    "### A Few Observations\n",
    "The syntax to define a function is simply\n",
    "```\n",
    "def <function_name>(<argument_1>, <argument_2>, ...):\n",
    "    <block of code>\n",
    "```\n",
    "\n",
    "* The function name follows essentially the same convention as variable names (\"snake_case\" fashion; in lower case, not starting with a number)\n",
    "* There can be zero, one or several arguments\n",
    "* Each argument can be seen as a variable inside the function\n",
    "* Optionally, a `return` statement allows to exit the function and return a value - see below\n",
    "\n",
    "### Another Example -  Counting Primes\n",
    "Let's now generalize our previous \"count primes smaller than 10\" exercise, and make it \"count primes smaller than X\". We could go like this:"
   ]
  },
  {
   "cell_type": "code",
   "execution_count": 3,
   "metadata": {},
   "outputs": [],
   "source": [
    "primes = {2, 3, 5, 7, 11, 13, 17, 19}\n",
    "\n",
    "def count_primes(upper_bound):\n",
    "    counter = 0\n",
    "    for prime in primes:\n",
    "        if prime <= upper_bound:\n",
    "            counter = counter + 1\n",
    "    return counter"
   ]
  },
  {
   "cell_type": "code",
   "execution_count": 4,
   "metadata": {},
   "outputs": [
    {
     "name": "stdout",
     "output_type": "stream",
     "text": [
      "4\n",
      "7\n",
      "0\n"
     ]
    }
   ],
   "source": [
    "print(count_primes(10))\n",
    "print(count_primes(18))\n",
    "print(count_primes(0))"
   ]
  },
  {
   "cell_type": "markdown",
   "metadata": {},
   "source": [
    "Many things are going on here, let's debunk:\n",
    "* The function is called `count_primes`\n",
    "* It accepts one argument `upper_bound`\n",
    "* It returns the last value of `counter`, which is the number of primes below `upper_bound` (and below 20).\n",
    "\n",
    "### Exercise\n",
    "Write a function that takes two arguments `x` and `y`, and returns `x/y`.\n",
    "\n",
    "*bonus*: before making the division, check if `y` is zero and print an error message if this is the case."
   ]
  },
  {
   "cell_type": "code",
   "execution_count": null,
   "metadata": {},
   "outputs": [],
   "source": []
  },
  {
   "cell_type": "code",
   "execution_count": null,
   "metadata": {},
   "outputs": [],
   "source": [
    "# Test calling the function:\n",
    "print(divide(1, 2))"
   ]
  },
  {
   "cell_type": "markdown",
   "metadata": {},
   "source": [
    "### Arguments with Default Values\n",
    "We can easily set default values for arguments:"
   ]
  },
  {
   "cell_type": "code",
   "execution_count": 6,
   "metadata": {},
   "outputs": [
    {
     "name": "stdout",
     "output_type": "stream",
     "text": [
      "[Default prompt] some message\n",
      "[! different prompt !] another message\n"
     ]
    }
   ],
   "source": [
    "def my_print(message, prompt='[Default prompt] '):\n",
    "    print(prompt + message)\n",
    "    \n",
    "my_print('some message')\n",
    "my_print('another message', prompt='[! different prompt !] ')"
   ]
  },
  {
   "cell_type": "markdown",
   "metadata": {},
   "source": [
    "## Scope\n",
    "The *scope* of a variable refers to the parts of the code where this variable can be accessed. Consider once more the prime-counting example, and let's try to print some of the variables:"
   ]
  },
  {
   "cell_type": "code",
   "execution_count": 7,
   "metadata": {},
   "outputs": [
    {
     "name": "stdout",
     "output_type": "stream",
     "text": [
      "4\n",
      "{2, 3, 5, 7, 11, 13, 17, 19}\n"
     ]
    },
    {
     "ename": "NameError",
     "evalue": "name 'counter' is not defined",
     "output_type": "error",
     "traceback": [
      "\u001b[0;31m---------------------------------------------------------------------------\u001b[0m",
      "\u001b[0;31mNameError\u001b[0m                                 Traceback (most recent call last)",
      "\u001b[0;32m<ipython-input-7-cdda6910e676>\u001b[0m in \u001b[0;36m<module>\u001b[0;34m\u001b[0m\n\u001b[1;32m     10\u001b[0m \u001b[0mprint\u001b[0m\u001b[0;34m(\u001b[0m\u001b[0mcount_primes\u001b[0m\u001b[0;34m(\u001b[0m\u001b[0;36m10\u001b[0m\u001b[0;34m)\u001b[0m\u001b[0;34m)\u001b[0m\u001b[0;34m\u001b[0m\u001b[0;34m\u001b[0m\u001b[0m\n\u001b[1;32m     11\u001b[0m \u001b[0mprint\u001b[0m\u001b[0;34m(\u001b[0m\u001b[0mprimes\u001b[0m\u001b[0;34m)\u001b[0m\u001b[0;34m\u001b[0m\u001b[0;34m\u001b[0m\u001b[0m\n\u001b[0;32m---> 12\u001b[0;31m \u001b[0mprint\u001b[0m\u001b[0;34m(\u001b[0m\u001b[0mcounter\u001b[0m\u001b[0;34m)\u001b[0m\u001b[0;34m\u001b[0m\u001b[0;34m\u001b[0m\u001b[0m\n\u001b[0m",
      "\u001b[0;31mNameError\u001b[0m: name 'counter' is not defined"
     ]
    }
   ],
   "source": [
    "primes = {2, 3, 5, 7, 11, 13, 17, 19}\n",
    "\n",
    "def count_primes(upper_bound):\n",
    "    counter = 0\n",
    "    for prime in primes:\n",
    "        if prime <= upper_bound:\n",
    "            counter = counter + 1\n",
    "    return counter\n",
    "\n",
    "print(count_primes(10))\n",
    "print(primes)\n",
    "print(counter)"
   ]
  },
  {
   "cell_type": "markdown",
   "metadata": {},
   "source": [
    "Here, we cannot access `counter` because it is defined only within the `count_primes` function (i.e., it is *local* to that function). Variables defined in a function only exist during that function execution, and cannot be accessed from the outside. Let's look at a few more examples:"
   ]
  },
  {
   "cell_type": "code",
   "execution_count": 8,
   "metadata": {},
   "outputs": [
    {
     "name": "stdout",
     "output_type": "stream",
     "text": [
      "global_string\n",
      "global_string\n"
     ]
    }
   ],
   "source": [
    "a_string = 'global_string'\n",
    "\n",
    "def my_func():\n",
    "    print(a_string)  # a_string here is a global variable\n",
    "    \n",
    "my_func()\n",
    "print(a_string)"
   ]
  },
  {
   "cell_type": "code",
   "execution_count": 9,
   "metadata": {},
   "outputs": [
    {
     "name": "stdout",
     "output_type": "stream",
     "text": [
      "local_string\n",
      "global_string\n"
     ]
    }
   ],
   "source": [
    "a_string = 'global_string'\n",
    "\n",
    "def my_func():\n",
    "    a_string = 'local_string'  # a_string here is a local variable only\n",
    "    print(a_string)\n",
    "    \n",
    "my_func()\n",
    "print(a_string)"
   ]
  },
  {
   "cell_type": "code",
   "execution_count": 10,
   "metadata": {},
   "outputs": [
    {
     "ename": "UnboundLocalError",
     "evalue": "local variable 'a_string' referenced before assignment",
     "output_type": "error",
     "traceback": [
      "\u001b[0;31m---------------------------------------------------------------------------\u001b[0m",
      "\u001b[0;31mUnboundLocalError\u001b[0m                         Traceback (most recent call last)",
      "\u001b[0;32m<ipython-input-10-3d23d5ed52ff>\u001b[0m in \u001b[0;36m<module>\u001b[0;34m\u001b[0m\n\u001b[1;32m      5\u001b[0m     \u001b[0ma_string\u001b[0m \u001b[0;34m=\u001b[0m \u001b[0;34m'local_string'\u001b[0m\u001b[0;34m\u001b[0m\u001b[0;34m\u001b[0m\u001b[0m\n\u001b[1;32m      6\u001b[0m \u001b[0;34m\u001b[0m\u001b[0m\n\u001b[0;32m----> 7\u001b[0;31m \u001b[0mmy_func\u001b[0m\u001b[0;34m(\u001b[0m\u001b[0;34m)\u001b[0m\u001b[0;34m\u001b[0m\u001b[0;34m\u001b[0m\u001b[0m\n\u001b[0m",
      "\u001b[0;32m<ipython-input-10-3d23d5ed52ff>\u001b[0m in \u001b[0;36mmy_func\u001b[0;34m()\u001b[0m\n\u001b[1;32m      2\u001b[0m \u001b[0;34m\u001b[0m\u001b[0m\n\u001b[1;32m      3\u001b[0m \u001b[0;32mdef\u001b[0m \u001b[0mmy_func\u001b[0m\u001b[0;34m(\u001b[0m\u001b[0;34m)\u001b[0m\u001b[0;34m:\u001b[0m\u001b[0;34m\u001b[0m\u001b[0;34m\u001b[0m\u001b[0m\n\u001b[0;32m----> 4\u001b[0;31m     \u001b[0mprint\u001b[0m\u001b[0;34m(\u001b[0m\u001b[0ma_string\u001b[0m\u001b[0;34m)\u001b[0m  \u001b[0;31m# This will fail, because a_string is local to this function, but not yet defined at this line!\u001b[0m\u001b[0;34m\u001b[0m\u001b[0;34m\u001b[0m\u001b[0m\n\u001b[0m\u001b[1;32m      5\u001b[0m     \u001b[0ma_string\u001b[0m \u001b[0;34m=\u001b[0m \u001b[0;34m'local_string'\u001b[0m\u001b[0;34m\u001b[0m\u001b[0;34m\u001b[0m\u001b[0m\n\u001b[1;32m      6\u001b[0m \u001b[0;34m\u001b[0m\u001b[0m\n",
      "\u001b[0;31mUnboundLocalError\u001b[0m: local variable 'a_string' referenced before assignment"
     ]
    }
   ],
   "source": [
    "a_string = 'global_string'\n",
    "\n",
    "def my_func():\n",
    "    print(a_string)  # This will fail, because a_string is local to this function, but not yet defined at this line!\n",
    "    a_string = 'local_string'\n",
    "    \n",
    "my_func()"
   ]
  },
  {
   "cell_type": "markdown",
   "metadata": {},
   "source": [
    "### [More Advanced Example] Scaling Our Primes!\n",
    "Until now, our prime number counting example was a bit frustrating because everything was relying on our fixed pre-computed set of primes smaller than 20. \n",
    "\n",
    "Let's now try to scale it to an arbitrary upper bound. First, we define a function to decide whether a number `n` is prime or not.\n",
    "\n",
    "#### Exercise\n",
    "complete the function below"
   ]
  },
  {
   "cell_type": "code",
   "execution_count": 15,
   "metadata": {},
   "outputs": [],
   "source": [
    "def is_prime(n):\n",
    "    if n == 1:\n",
    "        # 1 is not prime\n",
    "        return False\n",
    "    \n",
    "    if n == 2:\n",
    "        # 2 is prime\n",
    "        return True\n",
    "    \n",
    "    for d in range(2, int(n)):\n",
    "        if n % d == 0:\n",
    "            # We found a divisor, so n cannot be prime\n",
    "            return ...\n",
    "        \n",
    "    # We tried all possible divisors unsuccessfully, so n has to be prime\n",
    "    return ..."
   ]
  },
  {
   "cell_type": "markdown",
   "metadata": {},
   "source": [
    "Checking with a few examples:"
   ]
  },
  {
   "cell_type": "code",
   "execution_count": 16,
   "metadata": {},
   "outputs": [
    {
     "name": "stdout",
     "output_type": "stream",
     "text": [
      "False\n",
      "True\n",
      "True\n",
      "False\n"
     ]
    }
   ],
   "source": [
    "print(is_prime(1))\n",
    "print(is_prime(2))\n",
    "print(is_prime(17))\n",
    "print(is_prime(6))"
   ]
  },
  {
   "cell_type": "markdown",
   "metadata": {},
   "source": [
    "Good! Let's now try to re-write our function `count_primes`:"
   ]
  },
  {
   "cell_type": "code",
   "execution_count": 17,
   "metadata": {},
   "outputs": [],
   "source": [
    "def count_primes(upper_bound):\n",
    "    \"\"\" Count all the prime numbers below upper_bound (exclusive)\n",
    "    \"\"\"\n",
    "    counter = 0\n",
    "    for n in range(1, upper_bound):\n",
    "        if is_prime(n):\n",
    "            counter = counter + 1\n",
    "    return counter"
   ]
  },
  {
   "cell_type": "code",
   "execution_count": 18,
   "metadata": {},
   "outputs": [
    {
     "name": "stdout",
     "output_type": "stream",
     "text": [
      "4\n",
      "168\n"
     ]
    }
   ],
   "source": [
    "print(count_primes(10))\n",
    "print(count_primes(1000))"
   ]
  },
  {
   "cell_type": "markdown",
   "metadata": {},
   "source": [
    "That seems to work! Let's see how long it takes for a larger upper bound:"
   ]
  },
  {
   "cell_type": "code",
   "execution_count": 19,
   "metadata": {},
   "outputs": [
    {
     "name": "stdout",
     "output_type": "stream",
     "text": [
      "3245\n"
     ]
    }
   ],
   "source": [
    "print(count_primes(30000))"
   ]
  },
  {
   "cell_type": "code",
   "execution_count": 20,
   "metadata": {},
   "outputs": [
    {
     "name": "stdout",
     "output_type": "stream",
     "text": [
      "921 ms ± 10.9 ms per loop (mean ± std. dev. of 7 runs, 1 loop each)\n"
     ]
    }
   ],
   "source": [
    "%timeit count_primes(20000)"
   ]
  },
  {
   "cell_type": "markdown",
   "metadata": {},
   "source": [
    "### Exercise (bonus)\n",
    "Can you revise the function `is_prime` to make our computation faster?\n",
    "\n",
    "*hint*: when looking for divisors of $n$, it is enough to check integers smaller than $\\sqrt{n} + 1$."
   ]
  },
  {
   "cell_type": "markdown",
   "metadata": {},
   "source": [
    "## Classes\n",
    "Quoting the [documentation](https://docs.python.org/3/tutorial/classes.html)\n",
    "![image.png](images/class_doc.png)\n",
    "\n",
    "Let's see this with an example. "
   ]
  },
  {
   "cell_type": "code",
   "execution_count": 21,
   "metadata": {},
   "outputs": [],
   "source": [
    "class Point:\n",
    "    def __init__(self, x, y):\n",
    "        self.x = x\n",
    "        self.y = y\n",
    "    \n",
    "    def translate(self, delta_x, delta_y):\n",
    "        self.x = self.x + delta_x\n",
    "        self.y = self.y + delta_y\n",
    "        \n",
    "    def distance_to(self, other):\n",
    "        return ((self.x - other.x)**2 + (self.y - other.y)**2)**0.5"
   ]
  },
  {
   "cell_type": "markdown",
   "metadata": {},
   "source": [
    "Above, `Point` is the name of a class, whose attributes are `self.x` and `self.y`. It has a method `translate` that modifies its attributes, and also implements a `distance_to` method that returns the distance to another point. `Point` defines a *type*, meaning some variables can be of type `Point`:"
   ]
  },
  {
   "cell_type": "code",
   "execution_count": 22,
   "metadata": {},
   "outputs": [
    {
     "name": "stdout",
     "output_type": "stream",
     "text": [
      "<class '__main__.Point'>\n"
     ]
    }
   ],
   "source": [
    "p1 = Point(1, 2)\n",
    "print(type(p1))"
   ]
  },
  {
   "cell_type": "markdown",
   "metadata": {},
   "source": [
    "In the above code, `p1` is an *instance* of `Point` - also called an object of type `Point`.\n",
    "\n",
    "An instance of `Point` has two attributes, `x` and `y`:"
   ]
  },
  {
   "cell_type": "code",
   "execution_count": 23,
   "metadata": {},
   "outputs": [
    {
     "name": "stdout",
     "output_type": "stream",
     "text": [
      "x: 1\n",
      "y: 2\n"
     ]
    }
   ],
   "source": [
    "print('x: ' + str(p1.x))\n",
    "print('y: ' + str(p1.y))"
   ]
  },
  {
   "cell_type": "markdown",
   "metadata": {},
   "source": [
    "We can create another instance of `Point`:"
   ]
  },
  {
   "cell_type": "code",
   "execution_count": 24,
   "metadata": {},
   "outputs": [],
   "source": [
    "p2 = Point(2, 1)"
   ]
  },
  {
   "cell_type": "markdown",
   "metadata": {},
   "source": [
    "and compute the distance between `p1` and `p2` by calling the *method* `distance_to`:"
   ]
  },
  {
   "cell_type": "code",
   "execution_count": 25,
   "metadata": {},
   "outputs": [
    {
     "name": "stdout",
     "output_type": "stream",
     "text": [
      "distance = 1.4142135623730951\n"
     ]
    }
   ],
   "source": [
    "print('distance = ' + str(p1.distance_to(p2)))"
   ]
  },
  {
   "cell_type": "markdown",
   "metadata": {},
   "source": [
    "similarly, we can mutate `p2` by calling the `translate` method on it:"
   ]
  },
  {
   "cell_type": "code",
   "execution_count": 26,
   "metadata": {},
   "outputs": [
    {
     "name": "stdout",
     "output_type": "stream",
     "text": [
      "before, p2 = (2, 1)\n",
      "distance = 1.4142135623730951\n",
      "after, p2 = (3, 2)\n",
      "distance = 2.0\n"
     ]
    }
   ],
   "source": [
    "p2 = Point(2, 1)\n",
    "print('before, p2 = (' + str(p2.x) + ', ' + str(p2.y) + ')')\n",
    "print('distance = ' + str(p1.distance_to(p2)))\n",
    "\n",
    "p2.translate(1, 1)\n",
    "print('after, p2 = (' + str(p2.x) + ', ' + str(p2.y) + ')')\n",
    "print('distance = ' + str(p1.distance_to(p2)))"
   ]
  },
  {
   "cell_type": "markdown",
   "metadata": {},
   "source": [
    "## The Python Standard Library\n",
    "So far, we have used some nice Python functionalities coming for instance from built-in functions such as `sorted`.\n",
    "\n",
    "There actually exists many more *modules* in the [Python standard library](https://docs.python.org/3/library/). For instance, the `math` module can be used as follows: "
   ]
  },
  {
   "cell_type": "code",
   "execution_count": 27,
   "metadata": {},
   "outputs": [
    {
     "name": "stdout",
     "output_type": "stream",
     "text": [
      "0.6931471805599453\n",
      "11\n",
      "1.0\n"
     ]
    }
   ],
   "source": [
    "import math\n",
    "\n",
    "print(math.log(2))  # ln(2)\n",
    "print(math.ceil(10.001))\n",
    "print(math.sin(math.pi/2))"
   ]
  },
  {
   "cell_type": "code",
   "execution_count": 28,
   "metadata": {},
   "outputs": [
    {
     "data": {
      "text/plain": [
       "0.9999996829318346"
      ]
     },
     "execution_count": 28,
     "metadata": {},
     "output_type": "execute_result"
    }
   ],
   "source": [
    "from math import sin as sinus\n",
    "\n",
    "sinus(3.14/2)"
   ]
  },
  {
   "cell_type": "markdown",
   "metadata": {},
   "source": [
    "There is also a very useful `random` module:"
   ]
  },
  {
   "cell_type": "code",
   "execution_count": 29,
   "metadata": {},
   "outputs": [
    {
     "name": "stdout",
     "output_type": "stream",
     "text": [
      "0.17382737970103368\n",
      "33\n",
      "6.3032891807944225\n",
      "B\n"
     ]
    }
   ],
   "source": [
    "import random\n",
    "\n",
    "print(random.random())  # a random number between 0 and 1\n",
    "print(random.randint(1, 50))  # a random integer between 1 and 50\n",
    "print(random.gauss(10, 3))  # a sample from a Gaussian distribution with mean=10 and sigma=3\n",
    "\n",
    "elements = ['A', 'B', 'C', 'D', 'E', 'F']\n",
    "print(random.choice(elements))  # a random choice from a sequence"
   ]
  },
  {
   "cell_type": "code",
   "execution_count": 30,
   "metadata": {},
   "outputs": [
    {
     "name": "stdout",
     "output_type": "stream",
     "text": [
      "0.6394267984578837\n"
     ]
    }
   ],
   "source": [
    "random.seed(42)  # fix the seed for repeatability\n",
    "print(random.random())"
   ]
  },
  {
   "cell_type": "markdown",
   "metadata": {},
   "source": [
    "In the examples above, we used different functions and variables from the `math` and `random` modules. For example:\n",
    "* `math.pi` is a variable (of type `float`)\n",
    "* `random.randint` is a function (taking two parameters and returning and `int`)\n",
    "\n",
    "We could also have imported these names as follows:"
   ]
  },
  {
   "cell_type": "code",
   "execution_count": 31,
   "metadata": {},
   "outputs": [
    {
     "name": "stdout",
     "output_type": "stream",
     "text": [
      "3.141592653589793\n",
      "4\n"
     ]
    }
   ],
   "source": [
    "from math import pi\n",
    "from random import randint\n",
    "\n",
    "print(pi)\n",
    "print(randint(1, 100))"
   ]
  },
  {
   "cell_type": "markdown",
   "metadata": {},
   "source": [
    "Finally, you can also rename the modules when you export them:"
   ]
  },
  {
   "cell_type": "code",
   "execution_count": 32,
   "metadata": {},
   "outputs": [
    {
     "name": "stdout",
     "output_type": "stream",
     "text": [
      "95\n"
     ]
    }
   ],
   "source": [
    "import random as rnd\n",
    "print(rnd.randint(1, 100))"
   ]
  },
  {
   "cell_type": "markdown",
   "metadata": {},
   "source": [
    "### Exercise\n",
    "Write a function that simulates throwing a coin turning up head with probability p.\n",
    "\n",
    "Then write the sequence of outcomes you get when calling this function 10 times."
   ]
  },
  {
   "cell_type": "code",
   "execution_count": null,
   "metadata": {},
   "outputs": [],
   "source": [
    "def throw_coin ###\n",
    "    ###"
   ]
  },
  {
   "cell_type": "markdown",
   "metadata": {},
   "source": [
    "## Custom and External Libraries\n",
    "In addition to using built-in methods, it is also possible to write our own \"once and for all\" in Python `.py` files, and later import and use them from our different projects:"
   ]
  },
  {
   "cell_type": "code",
   "execution_count": null,
   "metadata": {},
   "outputs": [],
   "source": [
    "from my_lib import my_special_print_that_i_like_to_reuse\n",
    "\n",
    "my_special_print_that_i_like_to_reuse('This is a test')"
   ]
  },
  {
   "cell_type": "markdown",
   "metadata": {},
   "source": [
    "Finally, there is a great set of external libraries existing in Python for a doing various kinds of work. The best part is that most of the trully good ones are entirely free and open-source! Here are some most commonly used classics:\n",
    "* [Numpy](https://numpy.org/) Efficient array manipulation, linear algebra and methematical operations - at the core of many other libraries\n",
    "* [Pandas](https://pandas.pydata.org/) In-memory dataframes\n",
    "* [Matplotlib](https://matplotlib.org/) Plotting\n",
    "* [Scikit learn](https://scikit-learn.org/) Probably the main go-to library for machine learning (besides deep learning)\n",
    "* [PyTorch](https://pytorch.org/) Facebook library for differentiable programming with tensors (understand: for specifying and training deep learning models)\n",
    "* [Tensorflow](https://www.tensorflow.org/) Google library for differentiable programming with tensors\n",
    "* [Darts](https://github.com/unit8co/darts/) Unit8's library for time series processing and forecasting :)\n",
    "* ...\n",
    "\n",
    "### A Numpy Example\n",
    "Numpy manipulates *arrays*. Why should we care? In data science, we do, because arrays typically represent a much better and more performant entry point to perform all kinds of mathematical operations.\n",
    "\n",
    "For example, consider computing the dot product of two vectors `a` and `b` using first lists, then Numpy arrays:"
   ]
  },
  {
   "cell_type": "code",
   "execution_count": 34,
   "metadata": {},
   "outputs": [
    {
     "name": "stdout",
     "output_type": "stream",
     "text": [
      "32.0\n"
     ]
    }
   ],
   "source": [
    "# With lists:\n",
    "\n",
    "a = [1, 2, 3]\n",
    "b = [4, 5, 6]\n",
    "\n",
    "dotproduct = 0.\n",
    "for i in range(len(a)):\n",
    "    dotproduct = dotproduct + a[i] * b[i]\n",
    "print(dotproduct)"
   ]
  },
  {
   "cell_type": "code",
   "execution_count": 35,
   "metadata": {},
   "outputs": [
    {
     "name": "stdout",
     "output_type": "stream",
     "text": [
      "32\n"
     ]
    }
   ],
   "source": [
    "# With Numpy arrays:\n",
    "import numpy as np\n",
    "\n",
    "a_np = np.array(a)\n",
    "b_np = np.array(b)\n",
    "\n",
    "dotproduct = a_np.dot(b_np)\n",
    "print(dotproduct)"
   ]
  },
  {
   "cell_type": "markdown",
   "metadata": {},
   "source": [
    "First, the code is simpler (one line is enough with Numpy), but also, it is much, much faster (especially on big vectors):"
   ]
  },
  {
   "cell_type": "code",
   "execution_count": 36,
   "metadata": {},
   "outputs": [],
   "source": [
    "import random\n",
    "import numpy as np\n",
    "\n",
    "def dotpr_lists(size=1000000):\n",
    "    a = [random.random() for _ in range(size)]\n",
    "    b = [random.random() for _ in range(size)]\n",
    "    dotproduct = 0.\n",
    "    for i in range(len(a)):\n",
    "        dotproduct += a[i] * b[i]\n",
    "    return dotproduct\n",
    "\n",
    "def dotpr_np(size=1000000):\n",
    "    a = np.random.rand(size)\n",
    "    b = np.random.rand(size)\n",
    "    return a.dot(b)"
   ]
  },
  {
   "cell_type": "code",
   "execution_count": 37,
   "metadata": {},
   "outputs": [
    {
     "name": "stdout",
     "output_type": "stream",
     "text": [
      "279 ms ± 17.6 ms per loop (mean ± std. dev. of 7 runs, 1 loop each)\n"
     ]
    }
   ],
   "source": [
    "%timeit dotpr_lists()"
   ]
  },
  {
   "cell_type": "code",
   "execution_count": 38,
   "metadata": {},
   "outputs": [
    {
     "name": "stdout",
     "output_type": "stream",
     "text": [
      "15 ms ± 28.6 µs per loop (mean ± std. dev. of 7 runs, 100 loops each)\n"
     ]
    }
   ],
   "source": [
    "%timeit dotpr_np()"
   ]
  },
  {
   "cell_type": "markdown",
   "metadata": {},
   "source": [
    "In a simple problem instance such as this one with vectors of size $10^6$, Numpy is about 20x faster!"
   ]
  },
  {
   "cell_type": "markdown",
   "metadata": {},
   "source": [
    "### A Matplotlib Example\n",
    "Let's now re-use our function `is_prime` to plot how many primes are smaller than $N$, for each $N$ in a certain range:"
   ]
  },
  {
   "cell_type": "code",
   "execution_count": 40,
   "metadata": {},
   "outputs": [],
   "source": [
    "max_N = 10000\n",
    "\n",
    "n_to_nr_primes_smaller = dict()\n",
    "\n",
    "nr_primes_smaller = 0\n",
    "\n",
    "for n in range(1, max_N):\n",
    "    if is_prime(n):\n",
    "        nr_primes_smaller += 1\n",
    "    n_to_nr_primes_smaller[n] = nr_primes_smaller"
   ]
  },
  {
   "cell_type": "code",
   "execution_count": 41,
   "metadata": {},
   "outputs": [
    {
     "data": {
      "text/plain": [
       "[<matplotlib.lines.Line2D at 0x7f82ce1ab520>]"
      ]
     },
     "execution_count": 41,
     "metadata": {},
     "output_type": "execute_result"
    },
    {
     "data": {
      "image/png": "[encoded data removed]",
      "text/plain": [
       "<Figure size 432x288 with 1 Axes>"
      ]
     },
     "metadata": {
      "needs_background": "light"
     },
     "output_type": "display_data"
    }
   ],
   "source": [
    "import matplotlib.pyplot as plt\n",
    "\n",
    "plt.plot(list(n_to_nr_primes_smaller.keys()), list(n_to_nr_primes_smaller.values()))"
   ]
  }
 ],
 "metadata": {
  "kernelspec": {
   "display_name": "Python 3",
   "language": "python",
   "name": "python3"
  },
  "language_info": {
   "codemirror_mode": {
    "name": "ipython",
    "version": 3
   },
   "file_extension": ".py",
   "mimetype": "text/x-python",
   "name": "python",
   "nbconvert_exporter": "python",
   "pygments_lexer": "ipython3",
   "version": "3.8.3"
  }
 },
 "nbformat": 4,
 "nbformat_minor": 4
}
